{
 "cells": [
  {
   "cell_type": "code",
   "execution_count": 10,
   "metadata": {
    "collapsed": false
   },
   "outputs": [
    {
     "name": "stdout",
     "output_type": "stream",
     "text": [
      "The time for Golub-Kahan is:\n",
      " 0.11070513725280762\n",
      "[[ -9.8489  14.6164   0.       0.       0.    ]\n",
      " [  0.       3.5309   5.3093   0.       0.    ]\n",
      " [  0.       0.      -3.2272   3.2113   0.    ]\n",
      " [  0.       0.       0.       3.224   -0.5598]\n",
      " [  0.       0.       0.      -2.3999   1.2292]]\n"
     ]
    }
   ],
   "source": [
    "import os\n",
    "import sys\n",
    "import numpy as np\n",
    "import time\n",
    "\n",
    "np.set_printoptions(suppress=True, precision=4)\n",
    "    \n",
    "def set_lowVal_zero(X):\n",
    "    low_values_indices = abs(X) < 9e-15   # where values are low\n",
    "    X[low_values_indices] = 0             # all low values set to 0\n",
    "    return X\n",
    "\n",
    "def Householder(x, i):\n",
    "    alpha = -np.sign(x[i]) * np.linalg.norm(x)\n",
    "    e = np.zeros(len(x)); e[i] = 1.0\n",
    "    \n",
    "    v = (x - alpha * e)\n",
    "    w = v / np.linalg.norm(v)\n",
    "    P = np.eye(len(x)) - 2 * np.outer(w, w.T)\n",
    "    \n",
    "    return P\n",
    "\n",
    "st = time.time()\n",
    "A = np.array([[4, 3, 0, 2, 5], [2, 1, 2, 1, 6], [4, 4, 0, 3, 0], [5, 6, 1, 3, 7],[6,2,4,8,3]]);\n",
    "def Golub_Kahan(X):\n",
    "    col = X.shape[1]\n",
    "    row = X.shape[0]\n",
    "    J = X.copy()\n",
    "    for i in range(col - 2):\n",
    "        # column\n",
    "        h = np.zeros(len(J[:, i]))\n",
    "        h[i:] = J[i:, i]\n",
    "        P = Householder(h, i)\n",
    "        J = set_lowVal_zero(P @ J)\n",
    "        #print(J, '\\n')\n",
    "\n",
    "        # row\n",
    "        h = np.zeros(len(J[i, :]))\n",
    "        h[i+1:] = J[i, i+1:] \n",
    "        Q = Householder(h, i+1)\n",
    "        J = set_lowVal_zero(J @ Q)\n",
    "        B = np.array([[3.5309,5.3093,0],[0,-3.2272,3.2113],[0,0,3.224]])\n",
    "        b_transpose = np.transpose(B)\n",
    "        b = b_transpose.dot(B)\n",
    "        C = [[]]\n",
    "        C = np.array(b[1:,1:])\n",
    "        lambda1,lambda2 = np.linalg.eigvals(C)\n",
    "        #print(lambda1,lambda2);\n",
    "        mu1 = abs(C[1][1]-lambda1)\n",
    "        mu2 = abs(C[1][1]-lambda2);B=J;\n",
    "        mu=0\n",
    "        if(mu1>mu2 and mu1>0):\n",
    "            mu = lambda2\n",
    "        else:\n",
    "            mu = lambda1\n",
    "        p=int(-3.2272)\n",
    "        q = int(5.3093)\n",
    "        n = 2\n",
    "\n",
    "        for k in range(p+1,n-q-1):\n",
    "            #Right Rotation matrix\n",
    "            alpha = B[k][k]**2 - mu\n",
    "            beta = B[k][k+1]\n",
    "            x = (alpha*2 + beta**2)**0.5\n",
    "            c_r = x/(alpha+((beta**2)/alpha))\n",
    "            s_r = (-1*beta*c)/alpha\n",
    "            R = np.array([[1,0,0],[0,c_r,-s_r],[0,s_r,c_r]])\n",
    "            B = B.dot(R)\n",
    "            print(\"B is:\",B)\n",
    "            #left Rotation Matrix\n",
    "            alpha = B[k][k]\n",
    "            beta = B[k+1][k]\n",
    "            c_l = x/(alpha-((beta**2)/alpha))\n",
    "            s_l = (c_l*beta)/alpha\n",
    "            L = np.array([[1,0,0],[0,c_r,s_r],[0,-s_r,c_r]])\n",
    "            B = B.dot(L)\n",
    "            E = np.linalg.norm(A);B=J;\n",
    "            if(k<=n-q-1):\n",
    "                alpha = B[k][k+1]\n",
    "                beta = B[k][k+2]\n",
    "    return B\n",
    "J = Golub_Kahan(A)\n",
    "#print(lambda1,lambda2);\n",
    "sp = time.time()\n",
    "print(\"The time for Golub-Kahan is:\\n\",sp-st)\n",
    "print(J)\n"
   ]
  },
  {
   "cell_type": "code",
   "execution_count": null,
   "metadata": {
    "collapsed": true
   },
   "outputs": [],
   "source": []
  }
 ],
 "metadata": {
  "anaconda-cloud": {},
  "kernelspec": {
   "display_name": "Python [conda root]",
   "language": "python",
   "name": "conda-root-py"
  },
  "language_info": {
   "codemirror_mode": {
    "name": "ipython",
    "version": 3
   },
   "file_extension": ".py",
   "mimetype": "text/x-python",
   "name": "python",
   "nbconvert_exporter": "python",
   "pygments_lexer": "ipython3",
   "version": "3.5.2"
  }
 },
 "nbformat": 4,
 "nbformat_minor": 1
}
